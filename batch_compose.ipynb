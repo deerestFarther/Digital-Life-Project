{
 "cells": [
  {
   "cell_type": "code",
   "execution_count": 3,
   "metadata": {},
   "outputs": [
    {
     "name": "stdout",
     "output_type": "stream",
     "text": [
      "2023-09-11 22:05:15 【已完成】文件(10_2648930132_(Vocals).wav)音频BGM分离处理\n",
      "\n",
      "2023-09-11 22:05:47 【已完成】文件(11_2685772403_(Vocals).wav)音频BGM分离处理\n",
      "\n",
      "2023-09-11 22:06:24 【已完成】文件(12_2851956061_(Vocals).wav)音频BGM分离处理\n",
      "\n",
      "2023-09-11 22:07:03 【已完成】文件(13_2863460766_(Vocals).wav)音频BGM分离处理\n",
      "\n",
      "2023-09-11 22:07:48 【已完成】文件(14_2867525672_(Vocals).wav)音频BGM分离处理\n",
      "\n",
      "2023-09-11 22:08:27 【已完成】文件(15_3003895714_(Vocals).wav)音频BGM分离处理\n",
      "\n",
      "2023-09-11 22:09:08 【已完成】文件(16_3009785874_(Vocals).wav)音频BGM分离处理\n",
      "\n",
      "2023-09-11 22:09:50 【已完成】文件(17_3094189722_(Vocals).wav)音频BGM分离处理\n",
      "\n",
      "2023-09-11 22:10:32 【已完成】文件(18_3217221794_(Vocals).wav)音频BGM分离处理\n",
      "\n",
      "2023-09-11 22:11:12 【已完成】文件(19_3270739143_(Vocals).wav)音频BGM分离处理\n",
      "\n",
      "2023-09-11 22:11:52 【已完成】文件(1_486535966_(Vocals).wav)音频BGM分离处理\n",
      "\n",
      "2023-09-11 22:12:34 【已完成】文件(20_3405400267_(Vocals).wav)音频BGM分离处理\n",
      "\n",
      "2023-09-11 22:13:12 【已完成】文件(21_3664698384_(Vocals).wav)音频BGM分离处理\n",
      "\n",
      "2023-09-11 22:13:54 【已完成】文件(22_3786687750_(Vocals).wav)音频BGM分离处理\n",
      "\n",
      "2023-09-11 22:14:34 【已完成】文件(23_3813916159_(Vocals).wav)音频BGM分离处理\n",
      "\n",
      "2023-09-11 22:15:13 【已完成】文件(24_3986548074_(Vocals).wav)音频BGM分离处理\n",
      "\n",
      "2023-09-11 22:15:53 【已完成】文件(25_M500001Ubj6X0v5xdC_(Vocals).wav)音频BGM分离处理\n",
      "\n",
      "2023-09-11 22:16:32 【已完成】文件(26_M500003G6O0e0LZ8yA_(Vocals).wav)音频BGM分离处理\n",
      "\n",
      "2023-09-11 22:17:08 【已完成】文件(27_M5000004H4Wp0BSQLk_(Vocals).wav)音频BGM分离处理\n",
      "\n",
      "2023-09-11 22:17:44 【已完成】文件(28_M5000005CwrW1mQSAQ_(Vocals).wav)音频BGM分离处理\n",
      "\n",
      "2023-09-11 22:18:28 【已完成】文件(2_678627406_(Vocals).wav)音频BGM分离处理\n",
      "\n",
      "2023-09-11 22:19:13 【已完成】文件(3_1062811834_(Vocals).wav)音频BGM分离处理\n",
      "\n",
      "2023-09-11 22:19:50 【已完成】文件(4_1219574261_(Vocals).wav)音频BGM分离处理\n",
      "\n",
      "2023-09-11 22:20:33 【已完成】文件(5_1401050694_(Vocals).wav)音频BGM分离处理\n",
      "\n",
      "2023-09-11 22:21:13 【已完成】文件(6_1413723792_(Vocals).wav)音频BGM分离处理\n",
      "\n",
      "2023-09-11 22:21:54 【已完成】文件(7_1935419710_(Vocals).wav)音频BGM分离处理\n",
      "\n",
      "2023-09-11 22:22:37 【已完成】文件(8_2477850500_(Vocals).wav)音频BGM分离处理\n",
      "\n",
      "2023-09-11 22:23:18 【已完成】文件(9_2540909217_(Vocals).wav)音频BGM分离处理\n",
      "\n"
     ]
    }
   ],
   "source": [
    "import os\n",
    "import glob\n",
    "import time\n",
    "vocal_audio_dir = \"C:\\\\Users\\\\Admin\\\\Music\\\\inference\\\\male_seperated\"\n",
    "vocal_audio_filelist = glob.glob(os.path.join(vocal_audio_dir, \"*(Vocals).wav\"))\n",
    "\n",
    "for file in vocal_audio_filelist:\n",
    "    if file.endswith(\".wav\"):\n",
    "        os.system(f\"svc infer {file} -s huer2222 -m C:\\\\Users\\\\Admin\\\\Documents\\\\resources\\\\models\\\\sovits-svc\\\\huer_teresa\\\\G_1000.pth -c C:\\\\Users\\\\Admin\\\\Documents\\\\resources\\\\models\\\\sovits-svc\\\\huer_teresa\\\\config.json -na -fm crepe\")\n",
    "        print(\"{} 【已完成】文件({})音频BGM分离处理\\n\".format(time.strftime(\"%Y-%m-%d %H:%M:%S\", time.localtime()), file.split(\"\\\\\")[-1]))"
   ]
  }
 ],
 "metadata": {
  "kernelspec": {
   "display_name": "so-vits-svc-fork",
   "language": "python",
   "name": "python3"
  },
  "language_info": {
   "codemirror_mode": {
    "name": "ipython",
    "version": 3
   },
   "file_extension": ".py",
   "mimetype": "text/x-python",
   "name": "python",
   "nbconvert_exporter": "python",
   "pygments_lexer": "ipython3",
   "version": "3.10.12"
  },
  "orig_nbformat": 4
 },
 "nbformat": 4,
 "nbformat_minor": 2
}
